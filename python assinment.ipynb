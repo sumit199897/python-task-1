{
 "cells": [
  {
   "cell_type": "code",
   "execution_count": 1,
   "id": "cd7a14cd-d1cd-47d1-86f7-526137502427",
   "metadata": {},
   "outputs": [
    {
     "name": "stdout",
     "output_type": "stream",
     "text": [
      "List [[11, 22, 33, 44], [55, 66, 77], [88, 99, 100]]\n",
      "Flat List [11, 22, 33, 44, 55, 66, 77, 88, 99, 100]\n"
     ]
    }
   ],
   "source": [
    "def flat(lis):\n",
    "\tflatList = []\n",
    "\t# Iterate with outer list\n",
    "\tfor element in lis:\n",
    "\t\tif type(element) is list:\n",
    "\t\t\t# Check if type is list than iterate through the sublist\n",
    "\t\t\tfor item in element:\n",
    "\t\t\t\tflatList.append(item)\n",
    "\t\telse:\n",
    "\t\t\tflatList.append(element)\n",
    "\treturn flatList\n",
    "\n",
    "\n",
    "lis = [[11, 22, 33, 44], [55, 66, 77], [88, 99, 100]]\n",
    "print('List', lis)\n",
    "print('Flat List', flat(lis))\n"
   ]
  },
  {
   "cell_type": "code",
   "execution_count": 3,
   "id": "39acddb5-76de-4b36-8912-032be48bd95c",
   "metadata": {},
   "outputs": [
    {
     "name": "stdout",
     "output_type": "stream",
     "text": [
      "List [1, 2, 3, 4, [44, 55, 66, True], False, (34, 56, 78, 89, 34), {1, 2, 3}, {1: 34, 'key2': [55, 67, 78, 89], 4: (45, 22, 61, 34)}, [56, 'data science'], 'machin learning']\n",
      "Flat List [1, 2, 3, 4, 44, 55, 66, True, False, (34, 56, 78, 89, 34), {1, 2, 3}, {1: 34, 'key2': [55, 67, 78, 89], 4: (45, 22, 61, 34)}, 56, 'data science', 'machin learning']\n"
     ]
    }
   ],
   "source": [
    "def flat(lis):\n",
    "\tflatList = []\n",
    "\t# Iterate with outer list\n",
    "\tfor element in lis:\n",
    "\t\tif type(element) is list:\n",
    "\t\t\t# Check if type is list than iterate through the sublist\n",
    "\t\t\tfor item in element:\n",
    "\t\t\t\tflatList.append(item)\n",
    "\t\telse:\n",
    "\t\t\tflatList.append(element)\n",
    "\treturn flatList\n",
    "\n",
    "\n",
    "lis = [1,2,3,4,[44,55,66,True],False, (34,56,78,89,34),{1,2,3,3,2,1},{1:34,\"key2\" : [55,67,78,89],4 :(45,22,61,34)},[56,'data science'],'machin learning']\n",
    "print('List', lis)\n",
    "print('Flat List', flat(lis))"
   ]
  },
  {
   "cell_type": "code",
   "execution_count": 4,
   "id": "498f6549-de5d-49f6-a555-43f956dd74f7",
   "metadata": {},
   "outputs": [
    {
     "data": {
      "text/plain": [
       "34"
      ]
     },
     "execution_count": 4,
     "metadata": {},
     "output_type": "execute_result"
    }
   ],
   "source": [
    "lis[8][1]"
   ]
  },
  {
   "cell_type": "code",
   "execution_count": 5,
   "id": "dfd6542a-0bdd-4618-bc73-309055fe6876",
   "metadata": {},
   "outputs": [
    {
     "name": "stdout",
     "output_type": "stream",
     "text": [
      "Encrypted message: r$dzmg$gl$yvxlnv$z$wzgz$hxrvmgrhg.\n"
     ]
    }
   ],
   "source": [
    "def encrypt_message(message):\n",
    "    encrypted_message = \"\"\n",
    "    for char in message.lower():\n",
    "        if char.isalpha():\n",
    "            encrypted_char = chr(219 - ord(char))\n",
    "            encrypted_message += encrypted_char\n",
    "        elif char == \" \":\n",
    "            encrypted_message += \"$\"\n",
    "        else:\n",
    "            encrypted_message += char\n",
    "    return encrypted_message\n",
    "\n",
    "input_sentence = \"I want to become a Data Scientist.\"\n",
    "encrypted_sentence = encrypt_message(input_sentence)\n",
    "print(\"Encrypted message:\", encrypted_sentence)\n"
   ]
  },
  {
   "cell_type": "code",
   "execution_count": null,
   "id": "38bebdde-903c-4c17-ad8c-e06bf6d38914",
   "metadata": {},
   "outputs": [],
   "source": []
  }
 ],
 "metadata": {
  "kernelspec": {
   "display_name": "Python 3 (ipykernel)",
   "language": "python",
   "name": "python3"
  },
  "language_info": {
   "codemirror_mode": {
    "name": "ipython",
    "version": 3
   },
   "file_extension": ".py",
   "mimetype": "text/x-python",
   "name": "python",
   "nbconvert_exporter": "python",
   "pygments_lexer": "ipython3",
   "version": "3.10.8"
  }
 },
 "nbformat": 4,
 "nbformat_minor": 5
}
